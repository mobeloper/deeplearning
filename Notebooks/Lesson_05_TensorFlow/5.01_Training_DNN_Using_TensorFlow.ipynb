{
  "cells": [
    {
      "cell_type": "markdown",
      "metadata": {
        "id": "C0YnaxeLGCY4"
      },
      "source": [
        "# __Assisted Practice: Building Deep Neural Networks on TensorFlow__\n",
        "Building Deep Neural Networks on TensorFlow refers to the process of designing and constructing neural network models using the TensorFlow framework. This involves defining the architecture of the neural network, selecting appropriate layers and activation functions, specifying the optimization algorithm, and training the model using data.\n",
        "Let's understand how to build a neural network on TensorFlow."
      ]
    },
    {
      "cell_type": "markdown",
      "metadata": {
        "id": "saSuWUrGGPIa"
      },
      "source": [
        "\n",
        "\n",
        "## Steps to Be Followed:\n",
        "1. Importing the required libraries\n",
        "2. Loading and inspecting the data\n",
        "3. Building the model\n",
        "4. Training the model"
      ]
    },
    {
      "cell_type": "markdown",
      "metadata": {
        "id": "zkfqjK31CXXV"
      },
      "source": [
        "### Step 1: Importing Required Libraries\n",
        "\n",
        "- Import Pandas and NumPy packages\n",
        "- Import the TensorFlow package, which is used for text-based applications, image recognition, voice search, and many more\n",
        "- Import the Python package cv2, which is used for computer vision and image processing\n",
        "- Import the Python package matplotlib, which sets the padding between and around the subplots as well as the figure size\n",
        "- Import necessary libraries and modules for building a deep learning model using TensorFlow. It includes modules for convolutional and pooling layers, dropout, flattening, and dense layers\n",
        "- Imports other libraries for data manipulation, visualization, and image processing"
      ]
    },
    {
      "cell_type": "code",
      "execution_count": 3,
      "metadata": {},
      "outputs": [
        {
          "name": "stdout",
          "output_type": "stream",
          "text": [
            "Collecting opencv-python\n",
            "  Downloading opencv_python-4.9.0.80-cp37-abi3-macosx_10_16_x86_64.whl.metadata (20 kB)\n",
            "Requirement already satisfied: numpy>=1.21.2 in /opt/anaconda3/envs/ipykernel_py3/lib/python3.12/site-packages (from opencv-python) (1.26.4)\n",
            "Downloading opencv_python-4.9.0.80-cp37-abi3-macosx_10_16_x86_64.whl (55.7 MB)\n",
            "\u001b[2K   \u001b[90m━━━━━━━━━━━━━━━━━━━━━━━━━━━━━━━━━━━━━━━━\u001b[0m \u001b[32m55.7/55.7 MB\u001b[0m \u001b[31m21.9 MB/s\u001b[0m eta \u001b[36m0:00:00\u001b[0m00:01\u001b[0m00:01\u001b[0m\n",
            "\u001b[?25hInstalling collected packages: opencv-python\n",
            "Successfully installed opencv-python-4.9.0.80\n"
          ]
        }
      ],
      "source": [
        "!pip3 install opencv-python"
      ]
    },
    {
      "cell_type": "code",
      "execution_count": 6,
      "metadata": {
        "id": "Qz6slja9GCY8"
      },
      "outputs": [],
      "source": [
        "\n",
        "import tensorflow as tf\n",
        "from tensorflow import keras\n",
        "from tensorflow.keras.layers import Conv2D, MaxPooling2D, Dropout, Flatten, Dense\n",
        "\n",
        "import numpy as np\n",
        "\n",
        "import matplotlib.pyplot as plt\n",
        "import pandas as pd\n",
        "import seaborn as sns\n",
        "\n",
        "from six.moves import urllib\n",
        "\n",
        "import os\n",
        "import sys\n",
        "import cv2\n",
        "import IPython\n"
      ]
    },
    {
      "cell_type": "markdown",
      "metadata": {
        "id": "GYhwB5u8GCY-"
      },
      "source": [
        "### Step 2: Loading and Inspecting the Data\n",
        "\n",
        "\n",
        "- It is loading the Boston Housing dataset using the **keras.datasets.boston_housing.load_data()** function.\n",
        "- It splits the dataset into two sets: the training set **train_features** and **train_labels** and the testing set **test_features** and **test_labels**.\n",
        "- The training set contains input features (e.g., crime rate and number of rooms) and corresponding target labels (e.g., the median value of owner-occupied homes).\n",
        "- The testing set is used to evaluate the trained model's performance.\n"
      ]
    },
    {
      "cell_type": "code",
      "execution_count": 35,
      "metadata": {
        "colab": {
          "base_uri": "https://localhost:8080/"
        },
        "id": "KaFEYTKKGCZA",
        "outputId": "312d9026-06e9-4ee3-dbf4-3e6f4757c2f0"
      },
      "outputs": [],
      "source": [
        "\n",
        "(train_features, train_labels), (test_features, test_labels) = keras.datasets.boston_housing.load_data()"
      ]
    },
    {
      "cell_type": "markdown",
      "metadata": {
        "id": "N7cf4yntLbEK"
      },
      "source": [
        "- The mean **train_mean** and standard deviation **train_std** are calculated along the columns **axis=0** of the **train_features** array.\n",
        "- Then, the **train_features** array is standardized by subtracting the mean and dividing by the standard deviation.\n",
        "- This standardization process ensures that the features have a zero mean and unit variance, which can help improve the training performance and convergence of the model."
      ]
    },
    {
      "cell_type": "code",
      "execution_count": 38,
      "metadata": {},
      "outputs": [
        {
          "data": {
            "text/html": [
              "<div>\n",
              "<style scoped>\n",
              "    .dataframe tbody tr th:only-of-type {\n",
              "        vertical-align: middle;\n",
              "    }\n",
              "\n",
              "    .dataframe tbody tr th {\n",
              "        vertical-align: top;\n",
              "    }\n",
              "\n",
              "    .dataframe thead th {\n",
              "        text-align: right;\n",
              "    }\n",
              "</style>\n",
              "<table border=\"1\" class=\"dataframe\">\n",
              "  <thead>\n",
              "    <tr style=\"text-align: right;\">\n",
              "      <th></th>\n",
              "      <th>0</th>\n",
              "      <th>1</th>\n",
              "      <th>2</th>\n",
              "      <th>3</th>\n",
              "      <th>4</th>\n",
              "      <th>5</th>\n",
              "      <th>6</th>\n",
              "      <th>7</th>\n",
              "      <th>8</th>\n",
              "      <th>9</th>\n",
              "      <th>10</th>\n",
              "      <th>11</th>\n",
              "      <th>12</th>\n",
              "    </tr>\n",
              "  </thead>\n",
              "  <tbody>\n",
              "    <tr>\n",
              "      <th>0</th>\n",
              "      <td>-0.272246</td>\n",
              "      <td>-0.483615</td>\n",
              "      <td>-0.435762</td>\n",
              "      <td>-0.256833</td>\n",
              "      <td>-0.165227</td>\n",
              "      <td>-0.176443</td>\n",
              "      <td>0.813062</td>\n",
              "      <td>0.116698</td>\n",
              "      <td>-0.626249</td>\n",
              "      <td>-0.595170</td>\n",
              "      <td>1.148500</td>\n",
              "      <td>0.448077</td>\n",
              "      <td>0.825220</td>\n",
              "    </tr>\n",
              "    <tr>\n",
              "      <th>1</th>\n",
              "      <td>-0.403427</td>\n",
              "      <td>2.991784</td>\n",
              "      <td>-1.333912</td>\n",
              "      <td>-0.256833</td>\n",
              "      <td>-1.215182</td>\n",
              "      <td>1.894346</td>\n",
              "      <td>-1.910361</td>\n",
              "      <td>1.247585</td>\n",
              "      <td>-0.856463</td>\n",
              "      <td>-0.348433</td>\n",
              "      <td>-1.718189</td>\n",
              "      <td>0.431906</td>\n",
              "      <td>-1.329202</td>\n",
              "    </tr>\n",
              "    <tr>\n",
              "      <th>2</th>\n",
              "      <td>0.124940</td>\n",
              "      <td>-0.483615</td>\n",
              "      <td>1.028326</td>\n",
              "      <td>-0.256833</td>\n",
              "      <td>0.628642</td>\n",
              "      <td>-1.829688</td>\n",
              "      <td>1.110488</td>\n",
              "      <td>-1.187439</td>\n",
              "      <td>1.675886</td>\n",
              "      <td>1.565287</td>\n",
              "      <td>0.784476</td>\n",
              "      <td>0.220617</td>\n",
              "      <td>-1.308500</td>\n",
              "    </tr>\n",
              "    <tr>\n",
              "      <th>3</th>\n",
              "      <td>-0.401494</td>\n",
              "      <td>-0.483615</td>\n",
              "      <td>-0.869402</td>\n",
              "      <td>-0.256833</td>\n",
              "      <td>-0.361560</td>\n",
              "      <td>-0.324558</td>\n",
              "      <td>-1.236672</td>\n",
              "      <td>1.107180</td>\n",
              "      <td>-0.511142</td>\n",
              "      <td>-1.094663</td>\n",
              "      <td>0.784476</td>\n",
              "      <td>0.448077</td>\n",
              "      <td>-0.652926</td>\n",
              "    </tr>\n",
              "    <tr>\n",
              "      <th>4</th>\n",
              "      <td>-0.005634</td>\n",
              "      <td>-0.483615</td>\n",
              "      <td>1.028326</td>\n",
              "      <td>-0.256833</td>\n",
              "      <td>1.328612</td>\n",
              "      <td>0.153642</td>\n",
              "      <td>0.694808</td>\n",
              "      <td>-0.578572</td>\n",
              "      <td>1.675886</td>\n",
              "      <td>1.565287</td>\n",
              "      <td>0.784476</td>\n",
              "      <td>0.389882</td>\n",
              "      <td>0.263497</td>\n",
              "    </tr>\n",
              "    <tr>\n",
              "      <th>...</th>\n",
              "      <td>...</td>\n",
              "      <td>...</td>\n",
              "      <td>...</td>\n",
              "      <td>...</td>\n",
              "      <td>...</td>\n",
              "      <td>...</td>\n",
              "      <td>...</td>\n",
              "      <td>...</td>\n",
              "      <td>...</td>\n",
              "      <td>...</td>\n",
              "      <td>...</td>\n",
              "      <td>...</td>\n",
              "      <td>...</td>\n",
              "    </tr>\n",
              "    <tr>\n",
              "      <th>399</th>\n",
              "      <td>-0.381973</td>\n",
              "      <td>-0.483615</td>\n",
              "      <td>-0.616568</td>\n",
              "      <td>-0.256833</td>\n",
              "      <td>-0.933487</td>\n",
              "      <td>-0.938177</td>\n",
              "      <td>-0.251223</td>\n",
              "      <td>1.157680</td>\n",
              "      <td>-0.741356</td>\n",
              "      <td>-1.040501</td>\n",
              "      <td>-0.262093</td>\n",
              "      <td>0.448077</td>\n",
              "      <td>0.477421</td>\n",
              "    </tr>\n",
              "    <tr>\n",
              "      <th>400</th>\n",
              "      <td>-0.388221</td>\n",
              "      <td>0.358906</td>\n",
              "      <td>-0.609218</td>\n",
              "      <td>-0.256833</td>\n",
              "      <td>-0.796907</td>\n",
              "      <td>-0.038202</td>\n",
              "      <td>-1.888860</td>\n",
              "      <td>0.339660</td>\n",
              "      <td>-0.741356</td>\n",
              "      <td>-1.100681</td>\n",
              "      <td>0.056428</td>\n",
              "      <td>0.448077</td>\n",
              "      <td>-0.848908</td>\n",
              "    </tr>\n",
              "    <tr>\n",
              "      <th>401</th>\n",
              "      <td>-0.402030</td>\n",
              "      <td>0.990797</td>\n",
              "      <td>-0.741515</td>\n",
              "      <td>-0.256833</td>\n",
              "      <td>-1.019702</td>\n",
              "      <td>-0.333021</td>\n",
              "      <td>-1.638018</td>\n",
              "      <td>1.430403</td>\n",
              "      <td>-0.971569</td>\n",
              "      <td>-0.613224</td>\n",
              "      <td>-0.717123</td>\n",
              "      <td>0.079439</td>\n",
              "      <td>-0.677769</td>\n",
              "    </tr>\n",
              "    <tr>\n",
              "      <th>402</th>\n",
              "      <td>-0.172920</td>\n",
              "      <td>-0.483615</td>\n",
              "      <td>1.245881</td>\n",
              "      <td>-0.256833</td>\n",
              "      <td>2.677335</td>\n",
              "      <td>-0.787241</td>\n",
              "      <td>1.056737</td>\n",
              "      <td>-1.044075</td>\n",
              "      <td>-0.511142</td>\n",
              "      <td>-0.017443</td>\n",
              "      <td>-1.718189</td>\n",
              "      <td>-0.987644</td>\n",
              "      <td>0.420835</td>\n",
              "    </tr>\n",
              "    <tr>\n",
              "      <th>403</th>\n",
              "      <td>-0.404226</td>\n",
              "      <td>2.043948</td>\n",
              "      <td>-1.201615</td>\n",
              "      <td>-0.256833</td>\n",
              "      <td>-1.334689</td>\n",
              "      <td>0.475263</td>\n",
              "      <td>-1.799274</td>\n",
              "      <td>1.222729</td>\n",
              "      <td>-0.971569</td>\n",
              "      <td>-0.847926</td>\n",
              "      <td>-1.308662</td>\n",
              "      <td>0.233171</td>\n",
              "      <td>-1.153923</td>\n",
              "    </tr>\n",
              "  </tbody>\n",
              "</table>\n",
              "<p>404 rows × 13 columns</p>\n",
              "</div>"
            ],
            "text/plain": [
              "           0         1         2         3         4         5         6   \\\n",
              "0   -0.272246 -0.483615 -0.435762 -0.256833 -0.165227 -0.176443  0.813062   \n",
              "1   -0.403427  2.991784 -1.333912 -0.256833 -1.215182  1.894346 -1.910361   \n",
              "2    0.124940 -0.483615  1.028326 -0.256833  0.628642 -1.829688  1.110488   \n",
              "3   -0.401494 -0.483615 -0.869402 -0.256833 -0.361560 -0.324558 -1.236672   \n",
              "4   -0.005634 -0.483615  1.028326 -0.256833  1.328612  0.153642  0.694808   \n",
              "..        ...       ...       ...       ...       ...       ...       ...   \n",
              "399 -0.381973 -0.483615 -0.616568 -0.256833 -0.933487 -0.938177 -0.251223   \n",
              "400 -0.388221  0.358906 -0.609218 -0.256833 -0.796907 -0.038202 -1.888860   \n",
              "401 -0.402030  0.990797 -0.741515 -0.256833 -1.019702 -0.333021 -1.638018   \n",
              "402 -0.172920 -0.483615  1.245881 -0.256833  2.677335 -0.787241  1.056737   \n",
              "403 -0.404226  2.043948 -1.201615 -0.256833 -1.334689  0.475263 -1.799274   \n",
              "\n",
              "           7         8         9         10        11        12  \n",
              "0    0.116698 -0.626249 -0.595170  1.148500  0.448077  0.825220  \n",
              "1    1.247585 -0.856463 -0.348433 -1.718189  0.431906 -1.329202  \n",
              "2   -1.187439  1.675886  1.565287  0.784476  0.220617 -1.308500  \n",
              "3    1.107180 -0.511142 -1.094663  0.784476  0.448077 -0.652926  \n",
              "4   -0.578572  1.675886  1.565287  0.784476  0.389882  0.263497  \n",
              "..        ...       ...       ...       ...       ...       ...  \n",
              "399  1.157680 -0.741356 -1.040501 -0.262093  0.448077  0.477421  \n",
              "400  0.339660 -0.741356 -1.100681  0.056428  0.448077 -0.848908  \n",
              "401  1.430403 -0.971569 -0.613224 -0.717123  0.079439 -0.677769  \n",
              "402 -1.044075 -0.511142 -0.017443 -1.718189 -0.987644  0.420835  \n",
              "403  1.222729 -0.971569 -0.847926 -1.308662  0.233171 -1.153923  \n",
              "\n",
              "[404 rows x 13 columns]"
            ]
          },
          "execution_count": 38,
          "metadata": {},
          "output_type": "execute_result"
        }
      ],
      "source": [
        "train_features_df = pd.DataFrame(train_features)\n",
        "train_features_df"
      ]
    },
    {
      "cell_type": "code",
      "execution_count": 37,
      "metadata": {
        "id": "duafEb2UGCZA"
      },
      "outputs": [],
      "source": [
        "train_mean = np.mean(train_features, axis=0)\n",
        "train_std = np.std(train_features, axis=0)\n",
        "train_features = (train_features - train_mean) / train_std"
      ]
    },
    {
      "cell_type": "code",
      "execution_count": 9,
      "metadata": {
        "colab": {
          "base_uri": "https://localhost:8080/"
        },
        "id": "Xo9x5HkuGCZB",
        "outputId": "ae3ba512-a869-4982-b0a1-507ed231fcd5"
      },
      "outputs": [
        {
          "data": {
            "text/plain": [
              "array([[-0.27224633, -0.48361547, -0.43576161, ...,  1.14850044,\n",
              "         0.44807713,  0.8252202 ],\n",
              "       [-0.40342651,  2.99178419, -1.33391162, ..., -1.71818909,\n",
              "         0.43190599, -1.32920239],\n",
              "       [ 0.1249402 , -0.48361547,  1.0283258 , ...,  0.78447637,\n",
              "         0.22061726, -1.30850006],\n",
              "       ...,\n",
              "       [-0.40202987,  0.99079651, -0.7415148 , ..., -0.71712291,\n",
              "         0.07943894, -0.67776904],\n",
              "       [-0.17292018, -0.48361547,  1.24588095, ..., -1.71818909,\n",
              "        -0.98764362,  0.42083466],\n",
              "       [-0.40422614,  2.04394792, -1.20161456, ..., -1.30866202,\n",
              "         0.23317118, -1.15392266]])"
            ]
          },
          "execution_count": 9,
          "metadata": {},
          "output_type": "execute_result"
        }
      ],
      "source": [
        "train_features"
      ]
    },
    {
      "cell_type": "code",
      "execution_count": 10,
      "metadata": {},
      "outputs": [
        {
          "data": {
            "text/plain": [
              "(404, 13)"
            ]
          },
          "execution_count": 10,
          "metadata": {},
          "output_type": "execute_result"
        }
      ],
      "source": [
        "train_features.shape"
      ]
    },
    {
      "cell_type": "code",
      "execution_count": 11,
      "metadata": {},
      "outputs": [
        {
          "data": {
            "text/plain": [
              "(102, 13)"
            ]
          },
          "execution_count": 11,
          "metadata": {},
          "output_type": "execute_result"
        }
      ],
      "source": [
        "test_features.shape"
      ]
    },
    {
      "cell_type": "code",
      "execution_count": 12,
      "metadata": {},
      "outputs": [
        {
          "data": {
            "text/plain": [
              "array([ 18.0846,   0.    ,  18.1   ,   0.    ,   0.679 ,   6.434 ,\n",
              "       100.    ,   1.8347,  24.    , 666.    ,  20.2   ,  27.25  ,\n",
              "        29.05  ])"
            ]
          },
          "execution_count": 12,
          "metadata": {},
          "output_type": "execute_result"
        }
      ],
      "source": [
        "test_features[0]"
      ]
    },
    {
      "cell_type": "markdown",
      "metadata": {
        "id": "-_ZxZUEeF8iN"
      },
      "source": [
        " __Observation__\n",
        "\n",
        "\n",
        "- Here, we can see a few Boston housing datasets.\n",
        "- The given array represents a multi-dimensional array containing numerical values.\n",
        "- Each row in the array corresponds to a set of features or data points, while each column represents a specific feature or variable."
      ]
    },
    {
      "cell_type": "markdown",
      "metadata": {
        "id": "v5fZchhYFbBZ"
      },
      "source": [
        "### Step 3: Building the Model\n",
        "Building the neural network requires:\n",
        "- Configuring the layers of the model and compiling the model.\n",
        "- Stacking a few layers together using **keras.Sequential**.\n",
        "- Configuring the loss function, optimizer, and metrics to monitor.\n",
        "These are added during the model's compile step.\n",
        "\n",
        "\n",
        "\n",
        "Terminologies:\n",
        "- The **Loss** function measures how accurate the model is during training; we want to minimize this with the optimizer.\n",
        "- One must **Optimize** how the model is updated based on the data it sees and its loss function.\n",
        "- **Metrics** are used to monitor the training and testing steps."
      ]
    },
    {
      "cell_type": "code",
      "execution_count": 17,
      "metadata": {},
      "outputs": [],
      "source": [
        "shape_input = len(train_features[0])    # 13, means the number of columns in this dataset.\n",
        "\n",
        "def build_model():\n",
        "    model = keras.Sequential([\n",
        "        Dense(20, activation=tf.nn.relu, input_shape=[shape_input]),\n",
        "        Dense(1)\n",
        "    ])\n",
        "\n",
        "    model.compile(optimizer=tf.optimizers.Adam(),\n",
        "                  loss='mae',\n",
        "                  metrics=['mean_absolute_error']) # you can add a list of multiple metrics\n",
        "    return model\n"
      ]
    },
    {
      "cell_type": "markdown",
      "metadata": {
        "id": "GkM_Ixa_GCZD"
      },
      "source": [
        "### Step 4: Training the Model\n",
        "Training the neural network model requires the following steps:\n",
        "\n",
        "\n",
        "- Define a custom callback class **PrintDot**, which prints a dot for every epoch during training.\n",
        "\n",
        "- Create an instance of the model using the **build_model** function.\n",
        "\n",
        "- Create an instance of EarlyStopping callback, which monitors the validation loss and stops training if it doesn't improve after a certain number of epochs (specified by patience).\n",
        "\n",
        "- Train the model using the training features and labels. It runs for 200 epochs, with a validation split of 0.1 (10% of the training data used for validation). The callbacks parameter includes **early_stop** and **PrintDot** callbacks.\n",
        "\n",
        "- Create a Pandas **DataFrame hist** from the history object returned by the model.fit method. It contains the recorded training and validation metrics.\n",
        "\n",
        "- Extract the last value of the validation mean absolute error (MAE) from the hist DataFrame and assign it to the variable mae_final.\n",
        "\n",
        "- Print the final MAE on the validation set, rounded to three decimal places."
      ]
    },
    {
      "cell_type": "code",
      "execution_count": 40,
      "metadata": {
        "colab": {
          "base_uri": "https://localhost:8080/"
        },
        "id": "8WocKoO9GCZE",
        "outputId": "dc1cfcf8-0b51-4070-f751-6e0fc1a99e8b"
      },
      "outputs": [
        {
          "name": "stderr",
          "output_type": "stream",
          "text": [
            "/opt/anaconda3/envs/ipykernel_py3/lib/python3.12/site-packages/keras/src/layers/core/dense.py:87: UserWarning: Do not pass an `input_shape`/`input_dim` argument to a layer. When using Sequential models, prefer using an `Input(shape)` object as the first layer in the model instead.\n",
            "  super().__init__(activity_regularizer=activity_regularizer, **kwargs)\n"
          ]
        },
        {
          "name": "stdout",
          "output_type": "stream",
          "text": [
            "\n",
            "....................................................................................................\n",
            ".............................................................................\n",
            "\n",
            "Final  Mean absolute  Error on validation set: 2.631\n"
          ]
        },
        {
          "name": "stderr",
          "output_type": "stream",
          "text": [
            "/var/folders/cc/_kcvjw313pl6kbf8c3bdtnyc0000gn/T/ipykernel_35239/1779641103.py:30: FutureWarning: Calling float on a single element Series is deprecated and will raise a TypeError in the future. Use float(ser.iloc[0]) instead\n",
            "  mae_final = float(hist['val_mean_absolute_error'].tail(1))\n"
          ]
        }
      ],
      "source": [
        "class PrintDot(keras.callbacks.Callback):\n",
        "    def on_epoch_end(self, epoch, logs):\n",
        "        \n",
        "        if epoch % 100 == 0: print('')\n",
        "        print('.', end='')\n",
        "\n",
        "\n",
        "# def print_metric(epoch,metric):\n",
        "#     plt.line(epoch,metric)\n",
        "#     plt.show()\n",
        "\n",
        "\n",
        "model = build_model()\n",
        "\n",
        "#To avoid overfitting we use the early stopping technique\n",
        "# We use a value of 50, but usually is 3-5.\n",
        "early_stop = keras.callbacks.EarlyStopping(monitor='val_loss', patience=3)\n",
        "\n",
        "# Do 200 epochs as maximum\n",
        "# Save 10% of data for testing, data split 90-10.\n",
        "\n",
        "# callbacks are functions we want the model to run at each epoch (iteration)\n",
        "history = model.fit(train_features, train_labels, epochs=200, verbose=0, validation_split = 0.1,\n",
        "                    callbacks=[early_stop, PrintDot()])\n",
        "\n",
        "#Save some history of the model in a dataset\n",
        "hist = pd.DataFrame(history.history)\n",
        "hist['epoch'] = history.epoch\n",
        "\n",
        "mae_final = float(hist['val_mean_absolute_error'].tail(1))\n",
        "\n",
        "print()\n",
        "print()\n",
        "print('Final  Mean absolute  Error on validation set: {}'.format(round(mae_final, 3)))\n"
      ]
    },
    {
      "cell_type": "code",
      "execution_count": 27,
      "metadata": {},
      "outputs": [
        {
          "data": {
            "text/html": [
              "<div>\n",
              "<style scoped>\n",
              "    .dataframe tbody tr th:only-of-type {\n",
              "        vertical-align: middle;\n",
              "    }\n",
              "\n",
              "    .dataframe tbody tr th {\n",
              "        vertical-align: top;\n",
              "    }\n",
              "\n",
              "    .dataframe thead th {\n",
              "        text-align: right;\n",
              "    }\n",
              "</style>\n",
              "<table border=\"1\" class=\"dataframe\">\n",
              "  <thead>\n",
              "    <tr style=\"text-align: right;\">\n",
              "      <th></th>\n",
              "      <th>loss</th>\n",
              "      <th>mean_absolute_error</th>\n",
              "      <th>val_loss</th>\n",
              "      <th>val_mean_absolute_error</th>\n",
              "      <th>epoch</th>\n",
              "    </tr>\n",
              "  </thead>\n",
              "  <tbody>\n",
              "    <tr>\n",
              "      <th>0</th>\n",
              "      <td>21.583471</td>\n",
              "      <td>21.583471</td>\n",
              "      <td>20.604929</td>\n",
              "      <td>20.604929</td>\n",
              "      <td>0</td>\n",
              "    </tr>\n",
              "    <tr>\n",
              "      <th>1</th>\n",
              "      <td>21.334248</td>\n",
              "      <td>21.334248</td>\n",
              "      <td>20.347555</td>\n",
              "      <td>20.347555</td>\n",
              "      <td>1</td>\n",
              "    </tr>\n",
              "    <tr>\n",
              "      <th>2</th>\n",
              "      <td>21.068392</td>\n",
              "      <td>21.068392</td>\n",
              "      <td>20.069532</td>\n",
              "      <td>20.069532</td>\n",
              "      <td>2</td>\n",
              "    </tr>\n",
              "    <tr>\n",
              "      <th>3</th>\n",
              "      <td>20.782753</td>\n",
              "      <td>20.782753</td>\n",
              "      <td>19.771366</td>\n",
              "      <td>19.771366</td>\n",
              "      <td>3</td>\n",
              "    </tr>\n",
              "    <tr>\n",
              "      <th>4</th>\n",
              "      <td>20.480766</td>\n",
              "      <td>20.480766</td>\n",
              "      <td>19.445229</td>\n",
              "      <td>19.445229</td>\n",
              "      <td>4</td>\n",
              "    </tr>\n",
              "    <tr>\n",
              "      <th>...</th>\n",
              "      <td>...</td>\n",
              "      <td>...</td>\n",
              "      <td>...</td>\n",
              "      <td>...</td>\n",
              "      <td>...</td>\n",
              "    </tr>\n",
              "    <tr>\n",
              "      <th>97</th>\n",
              "      <td>2.962610</td>\n",
              "      <td>2.962610</td>\n",
              "      <td>3.071683</td>\n",
              "      <td>3.071683</td>\n",
              "      <td>97</td>\n",
              "    </tr>\n",
              "    <tr>\n",
              "      <th>98</th>\n",
              "      <td>2.956071</td>\n",
              "      <td>2.956071</td>\n",
              "      <td>3.099031</td>\n",
              "      <td>3.099031</td>\n",
              "      <td>98</td>\n",
              "    </tr>\n",
              "    <tr>\n",
              "      <th>99</th>\n",
              "      <td>2.943495</td>\n",
              "      <td>2.943495</td>\n",
              "      <td>3.047649</td>\n",
              "      <td>3.047649</td>\n",
              "      <td>99</td>\n",
              "    </tr>\n",
              "    <tr>\n",
              "      <th>100</th>\n",
              "      <td>2.931302</td>\n",
              "      <td>2.931302</td>\n",
              "      <td>3.057565</td>\n",
              "      <td>3.057565</td>\n",
              "      <td>100</td>\n",
              "    </tr>\n",
              "    <tr>\n",
              "      <th>101</th>\n",
              "      <td>2.922227</td>\n",
              "      <td>2.922227</td>\n",
              "      <td>3.058422</td>\n",
              "      <td>3.058422</td>\n",
              "      <td>101</td>\n",
              "    </tr>\n",
              "  </tbody>\n",
              "</table>\n",
              "<p>102 rows × 5 columns</p>\n",
              "</div>"
            ],
            "text/plain": [
              "          loss  mean_absolute_error   val_loss  val_mean_absolute_error  epoch\n",
              "0    21.583471            21.583471  20.604929                20.604929      0\n",
              "1    21.334248            21.334248  20.347555                20.347555      1\n",
              "2    21.068392            21.068392  20.069532                20.069532      2\n",
              "3    20.782753            20.782753  19.771366                19.771366      3\n",
              "4    20.480766            20.480766  19.445229                19.445229      4\n",
              "..         ...                  ...        ...                      ...    ...\n",
              "97    2.962610             2.962610   3.071683                 3.071683     97\n",
              "98    2.956071             2.956071   3.099031                 3.099031     98\n",
              "99    2.943495             2.943495   3.047649                 3.047649     99\n",
              "100   2.931302             2.931302   3.057565                 3.057565    100\n",
              "101   2.922227             2.922227   3.058422                 3.058422    101\n",
              "\n",
              "[102 rows x 5 columns]"
            ]
          },
          "execution_count": 27,
          "metadata": {},
          "output_type": "execute_result"
        }
      ],
      "source": [
        "hist"
      ]
    },
    {
      "cell_type": "markdown",
      "metadata": {
        "id": "7r7uOD6jLYx-"
      },
      "source": [
        "**Observation**\n",
        "\n",
        "As shown, the final mean absolute error on the validation set is 2.596."
      ]
    },
    {
      "cell_type": "markdown",
      "metadata": {
        "id": "MZeUxYF9HML2"
      },
      "source": [
        "- It normalizes the test features based on the mean and standard deviation of the training set.\n",
        "- It evaluates the model's performance on the normalized test features and prints the mean absolute error (MAE) on the test set."
      ]
    },
    {
      "cell_type": "code",
      "execution_count": 32,
      "metadata": {
        "colab": {
          "base_uri": "https://localhost:8080/"
        },
        "id": "LQbYz8kMGCZE",
        "outputId": "2df65185-6d77-4fe1-df4f-86ad4acf1166"
      },
      "outputs": [
        {
          "data": {
            "text/plain": [
              "(102, 13)"
            ]
          },
          "execution_count": 32,
          "metadata": {},
          "output_type": "execute_result"
        }
      ],
      "source": [
        "#Normalize the test data, because we trained the model with normalized data\n",
        "test_features_norm = (test_features - train_mean) / train_std # Use the mean and std from the train data\n",
        "test_features_norm.shape\n"
      ]
    },
    {
      "cell_type": "code",
      "execution_count": 33,
      "metadata": {},
      "outputs": [
        {
          "name": "stdout",
          "output_type": "stream",
          "text": [
            "\u001b[1m4/4\u001b[0m \u001b[32m━━━━━━━━━━━━━━━━━━━━\u001b[0m\u001b[37m\u001b[0m \u001b[1m0s\u001b[0m 1ms/step - loss: 2.9741 - mean_absolute_error: 2.9741 \n",
            " Mean absolute  Error on test set: 3.119\n"
          ]
        }
      ],
      "source": [
        "mae,  _ = model.evaluate(test_features_norm, test_labels)\n",
        "#rmae = np.sqrt(mae)\n",
        "print(' Mean absolute  Error on test set: {}'.format(round(mae, 3)))"
      ]
    },
    {
      "cell_type": "markdown",
      "metadata": {
        "id": "vCrX2XQzL1x3"
      },
      "source": [
        "**Observation**\n",
        "\n",
        "The output indicates the following:\n",
        "\n",
        "- The evaluation was performed on 4 data points.\n",
        "- The loss value (mean squared error) on the test set is 3.1237.\n",
        "- The mean absolute error on the test set is also 3.1237.\n",
        "- The mean absolute error, when rounded, is 3.124.\n",
        "\n",
        "In summary, the model achieved a loss value of 3.1237 and a mean absolute error of 3.1237, which translates to a mean absolute error of approximately 3.124."
      ]
    }
  ],
  "metadata": {
    "colab": {
      "provenance": []
    },
    "kernelspec": {
      "display_name": "Python 3",
      "language": "python",
      "name": "python3"
    },
    "language_info": {
      "codemirror_mode": {
        "name": "ipython",
        "version": 3
      },
      "file_extension": ".py",
      "mimetype": "text/x-python",
      "name": "python",
      "nbconvert_exporter": "python",
      "pygments_lexer": "ipython3",
      "version": "3.12.2"
    }
  },
  "nbformat": 4,
  "nbformat_minor": 0
}
