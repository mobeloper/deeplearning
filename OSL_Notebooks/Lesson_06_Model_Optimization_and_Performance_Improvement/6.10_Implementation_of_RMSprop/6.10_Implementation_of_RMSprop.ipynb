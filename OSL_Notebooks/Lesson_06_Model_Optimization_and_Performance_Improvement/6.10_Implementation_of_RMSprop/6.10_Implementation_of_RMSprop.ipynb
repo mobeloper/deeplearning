{
 "cells": [
  {
   "cell_type": "markdown",
   "metadata": {},
   "source": [
    "# Implementing RMS prop from scratch"
   ]
  },
  {
   "cell_type": "markdown",
   "metadata": {},
   "source": [
    "A problem with AdaGrad is that it can slow the search down too much, resulting in very small learning rates for each parameter or dimension of the search by the end of the run. \n",
    "\n",
    "This has the effect of stopping the search too soon, before the minimal can be located."
   ]
  },
  {
   "cell_type": "code",
   "execution_count": null,
   "metadata": {},
   "outputs": [],
   "source": [
    "RMSProp \n",
    "- an extension of AdaGrad in that it uses a decaying average or moving average of the partial derivatives instead of the sum in the calculation of\n",
    "the learning rate for each parameter.\n",
    "- This is achieved by adding a new hyperparameter we will call rho that acts like momentum for the partial derivatives.\n",
    "- Using a decaying moving average of the partial derivative allows the search to forget early partial derivative values and focus on the most recently seen shape of the search space."
   ]
  },
  {
   "cell_type": "code",
   "execution_count": null,
   "metadata": {},
   "outputs": [],
   "source": []
  },
  {
   "cell_type": "code",
   "execution_count": 10,
   "metadata": {},
   "outputs": [],
   "source": [
    "# Importing packages\n",
    "\n",
    "from math import sqrt\n",
    "from numpy import asarray\n",
    "from numpy.random import rand\n",
    "from numpy.random import seed\n",
    "from numpy import arange\n",
    "from numpy import meshgrid\n",
    "from matplotlib import pyplot"
   ]
  },
  {
   "cell_type": "code",
   "execution_count": 6,
   "metadata": {},
   "outputs": [],
   "source": [
    "# defining the objective function\n",
    "\n",
    "def objective(x, y):\n",
    "    return x**2.0 + y**2.0\n",
    "\n",
    "\n"
   ]
  },
  {
   "cell_type": "code",
   "execution_count": 12,
   "metadata": {},
   "outputs": [],
   "source": [
    "# define derivative of the objective function\n",
    "\n",
    "\n",
    "def derivative(x, y):\n",
    "    return asarray([x * 2.0, y * 2.0])"
   ]
  },
  {
   "cell_type": "code",
   "execution_count": 16,
   "metadata": {},
   "outputs": [
    {
     "data": {
      "image/png": "[encoded data removed]",
      "text/plain": [
       "<Figure size 432x288 with 1 Axes>"
      ]
     },
     "metadata": {
      "needs_background": "light"
     },
     "output_type": "display_data"
    }
   ],
   "source": [
    "# plot the objective function\n",
    "def objective(x, y):\n",
    "    return x**2.0 + y**2.0\n",
    "\n",
    "# define range for input\n",
    "bounds = asarray([[-1.0, 1.0], [-1.0, 1.0]])\n",
    "# sample input range uniformly at 0.1 increments\n",
    "xaxis = arange(bounds[0,0], bounds[0,1], 0.1)\n",
    "yaxis = arange(bounds[1,0], bounds[1,1], 0.1)\n",
    "# create a mesh from the axis\n",
    "x, y = meshgrid(xaxis, yaxis)\n",
    "# compute targets\n",
    "results = objective(x, y)\n",
    "# create a filled contour plot with 50 levels and jet color scheme\n",
    "pyplot.contourf(x, y, results, levels=50, cmap='jet')\n",
    "# show the plot\n",
    "pyplot.show()\n"
   ]
  },
  {
   "cell_type": "code",
   "execution_count": null,
   "metadata": {},
   "outputs": [],
   "source": []
  },
  {
   "cell_type": "markdown",
   "metadata": {},
   "source": [
    "# How RMS prop works\n",
    "\n",
    "- The first step is to calculate the gradient for the current solution using the derivative() function\n",
    "- calculate the square of the partial derivative and update the decaying average of the squared partial derivatives with the “rho” hyperparameter.\n",
    "- use the moving average of the squared partial derivatives and gradient to calculate the step size for the next point.\n",
    "- We will do this one variable at a time, first calculating the step size for the variable, then the new value for the variable\n",
    "-These values are built up in an array until we have a completely new solution that is in the steepest descent direction from the current point using the custom step sizes.\n",
    "- This new solution can then be evaluated using the objective() function and the performance of the search can be reported\n",
    "\n"
   ]
  },
  {
   "cell_type": "code",
   "execution_count": 17,
   "metadata": {},
   "outputs": [],
   "source": [
    " #gradient descent algorithm with rmsprop\n",
    "\n",
    "def rmsprop(objective, derivative, bounds, n_iter, step_size, rho):\n",
    "    # generate an initial point\n",
    "    solution = bounds[:, 0] + rand(len(bounds)) * (bounds[:, 1] - bounds[:, 0])\n",
    "    # list of the average square gradients for each variable\n",
    "    sq_grad_avg = [0.0 for _ in range(bounds.shape[0])]\n",
    "    # run the gradient descent\n",
    "    for it in range(n_iter):\n",
    "        # calculate gradient\n",
    "        gradient = derivative(solution[0], solution[1])\n",
    "        # update the average of the squared partial derivatives\n",
    "        for i in range(gradient.shape[0]):\n",
    "            # calculate the squared gradient\n",
    "            sg = gradient[i]**2.0\n",
    "            # update the moving average of the squared gradient\n",
    "            sq_grad_avg[i] = (sq_grad_avg[i] * rho) + (sg * (1.0-rho))\n",
    "        # build a solution one variable at a time\n",
    "        new_solution = list()\n",
    "        for i in range(solution.shape[0]):\n",
    "            # calculate the step size for this variable\n",
    "            alpha = step_size / (1e-8 + sqrt(sq_grad_avg[i]))\n",
    "            # calculate the new position in this variable\n",
    "            value = solution[i] - alpha * gradient[i]\n",
    "            # store this variable\n",
    "            new_solution.append(value)\n",
    "        # evaluate candidate point\n",
    "        solution = asarray(new_solution)\n",
    "        solution_eval = objective(solution[0], solution[1])\n",
    "        # report progress\n",
    "        print('>%d f(%s) = %.5f' % (it, solution, solution_eval))\n",
    "    return [solution, solution_eval]\n",
    " \n",
    "                \n",
    "            \n",
    "\n"
   ]
  },
  {
   "cell_type": "code",
   "execution_count": 19,
   "metadata": {},
   "outputs": [
    {
     "name": "stdout",
     "output_type": "stream",
     "text": [
      ">0 f([-0.06595602  0.340649  ]) = 0.12039\n",
      ">1 f([-0.02886236  0.27929536]) = 0.07884\n",
      ">2 f([-0.01276125  0.23417693]) = 0.05500\n",
      ">3 f([-0.00562466  0.19863849]) = 0.03949\n",
      ">4 f([-0.00246486  0.16964301]) = 0.02878\n",
      ">5 f([-0.00107332  0.145492  ]) = 0.02117\n",
      ">6 f([-0.00046434  0.12511178]) = 0.01565\n",
      ">7 f([-0.00019955  0.10776512]) = 0.01161\n",
      ">8 f([-8.51860635e-05  9.29147925e-02]) = 0.00863\n",
      ">9 f([-3.61188240e-05  8.01516212e-02]) = 0.00642\n",
      ">10 f([-1.52095444e-05  6.91533161e-02]) = 0.00478\n",
      ">11 f([-6.36034309e-06  5.96594573e-02]) = 0.00356\n",
      ">12 f([-2.64113212e-06  5.14554696e-02]) = 0.00265\n",
      ">13 f([-1.08894956e-06  4.43619097e-02]) = 0.00197\n",
      ">14 f([-4.45754295e-07  3.82270235e-02]) = 0.00146\n",
      ">15 f([-1.81140176e-07  3.29213925e-02]) = 0.00108\n",
      ">16 f([-7.30678086e-08  2.83339599e-02]) = 0.00080\n",
      ">17 f([-2.92542666e-08  2.43689933e-02]) = 0.00059\n",
      ">18 f([-1.16242022e-08  2.09437034e-02]) = 0.00044\n",
      ">19 f([-4.58359298e-09  1.79863337e-02]) = 0.00032\n",
      ">20 f([-1.79339171e-09  1.54345976e-02]) = 0.00024\n",
      ">21 f([-6.96188554e-10  1.32343798e-02]) = 0.00018\n",
      ">22 f([-2.68112268e-10  1.13386418e-02]) = 0.00013\n",
      ">23 f([-1.02423381e-10  9.70649097e-03]) = 0.00009\n",
      ">24 f([-3.88085757e-11  8.30238106e-03]) = 0.00007\n",
      ">25 f([-1.45832736e-11  7.09542272e-03]) = 0.00005\n",
      ">26 f([-5.43416204e-12  6.05878512e-03]) = 0.00004\n",
      ">27 f([-2.00775554e-12  5.16917554e-03]) = 0.00003\n",
      ">28 f([-7.35426215e-13  4.40638562e-03]) = 0.00002\n",
      ">29 f([-2.67033413e-13  3.75289509e-03]) = 0.00001\n",
      ">30 f([-9.61030898e-14  3.19352553e-03]) = 0.00001\n",
      ">31 f([-3.42767893e-14  2.71513758e-03]) = 0.00001\n",
      ">32 f([-1.21143047e-14  2.30636623e-03]) = 0.00001\n",
      ">33 f([-4.24204875e-15  1.95738936e-03]) = 0.00000\n",
      ">34 f([-1.47154482e-15  1.65972553e-03]) = 0.00000\n",
      ">35 f([-5.05629595e-16  1.40605727e-03]) = 0.00000\n",
      ">36 f([-1.72064649e-16  1.19007691e-03]) = 0.00000\n",
      ">37 f([-5.79813754e-17  1.00635204e-03]) = 0.00000\n",
      ">38 f([-1.93445677e-17  8.50208253e-04]) = 0.00000\n",
      ">39 f([-6.38906842e-18  7.17626999e-04]) = 0.00000\n",
      ">40 f([-2.08860690e-18  6.05156738e-04]) = 0.00000\n",
      ">41 f([-6.75689941e-19  5.09835645e-04]) = 0.00000\n",
      ">42 f([-2.16291217e-19  4.29124484e-04]) = 0.00000\n",
      ">43 f([-6.84948980e-20  3.60848338e-04]) = 0.00000\n",
      ">44 f([-2.14551097e-20  3.03146089e-04]) = 0.00000\n",
      ">45 f([-6.64629576e-21  2.54426642e-04]) = 0.00000\n",
      ">46 f([-2.03575780e-21  2.13331041e-04]) = 0.00000\n",
      ">47 f([-6.16437387e-22  1.78699710e-04]) = 0.00000\n",
      ">48 f([-1.84495110e-22  1.49544152e-04]) = 0.00000\n",
      ">49 f([-5.45667355e-23  1.25022522e-04]) = 0.00000\n",
      "Done!\n",
      "f([-5.45667355e-23  1.25022522e-04]) = 0.000000\n"
     ]
    }
   ],
   "source": [
    "# seed the pseudo random number generator\n",
    "seed(1)\n",
    "\n",
    "# define range for input\n",
    "\n",
    "bounds = asarray([[-1.0, 1.0], [-1.0,1.0]])\n",
    "#define total iterations\n",
    "n_iter = 50\n",
    "#define step size\n",
    "step_size = 0.01\n",
    "# momentum for rms_prop\n",
    "rho = .99\n",
    "\n",
    "# perform the gradient descent search algorithm\n",
    "\n",
    "best, score = rmsprop(objective, derivative, bounds, n_iter, step_size, rho)\n",
    "print('Done!')\n",
    "print('f(%s) = %f' % (best,score))\n"
   ]
  },
  {
   "cell_type": "code",
   "execution_count": null,
   "metadata": {},
   "outputs": [],
   "source": []
  },
  {
   "cell_type": "code",
   "execution_count": null,
   "metadata": {},
   "outputs": [],
   "source": []
  }
 ],
 "metadata": {
  "kernelspec": {
   "display_name": "Python 3",
   "language": "python",
   "name": "python3"
  },
  "language_info": {
   "codemirror_mode": {
    "name": "ipython",
    "version": 3
   },
   "file_extension": ".py",
   "mimetype": "text/x-python",
   "name": "python",
   "nbconvert_exporter": "python",
   "pygments_lexer": "ipython3",
   "version": "3.7.6"
  }
 },
 "nbformat": 4,
 "nbformat_minor": 4
}
