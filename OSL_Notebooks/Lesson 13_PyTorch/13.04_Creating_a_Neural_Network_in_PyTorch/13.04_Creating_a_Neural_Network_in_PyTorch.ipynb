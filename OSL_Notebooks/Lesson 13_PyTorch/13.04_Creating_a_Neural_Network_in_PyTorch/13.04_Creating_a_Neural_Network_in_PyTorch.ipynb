{
 "cells": [
  {
   "cell_type": "markdown",
   "metadata": {},
   "source": [
    "# Tutorial on creating Neural Network in Pytorch"
   ]
  },
  {
   "cell_type": "code",
   "execution_count": 8,
   "metadata": {},
   "outputs": [],
   "source": [
    "# importing the libraries\n",
    "\n",
    "import torch\n",
    "import torch.nn as nn # Contains Required functions and layers\n",
    "import torch.nn.functional as F # For neural network functions:\n",
    "# For Open ML datasets available in PyTorch.\n",
    "from torchvision import datasets, transforms\n",
    "# Contains Optimization function available in PyTorch.\n",
    "import torch.optim as optim\n"
   ]
  },
  {
   "cell_type": "code",
   "execution_count": 12,
   "metadata": {},
   "outputs": [],
   "source": [
    "# transform function\n",
    "\n",
    "transform = transforms.Compose([transforms.ToTensor(),\n",
    "                                transforms.Normalize((0.5,), (0.5,)),\n",
    "                              ])\n",
    "\n",
    "#Download the dataset\n",
    "trainset = datasets.MNIST('~/.pytorch/MNIST_data/', download=True, train=True, transform=transform)\n",
    "# trainloader is what holds the data loader object which takes care of shuffling the data and constructing the batches\n",
    "trainloader = torch.utils.data.DataLoader(trainset, batch_size=64, shuffle=True)\n",
    "testset = datasets.MNIST('~/.pytorch/MNIST_data/', download=True, train=False, transform=transform)\n",
    "testloader = torch.utils.data.DataLoader(testset, batch_size=64, shuffle=False) # No need to shuffle test data.\n"
   ]
  },
  {
   "cell_type": "code",
   "execution_count": 13,
   "metadata": {},
   "outputs": [],
   "source": [
    "# code custom neural network  model\n",
    "\n",
    "class CustomNeuralNetwork(nn.Module):\n",
    "    def __init__(self):\n",
    "        super().__init__()\n",
    "        # Define Layers:\n",
    "        self.l1 = nn.Linear(784, 256) # layer 1\n",
    "        self.l2 = nn.Linear(256, 128) # layer 2\n",
    "        self.l3 = nn.Linear(128, 64) # layer 3\n",
    "        self.l4 = nn.Linear(64, 10) # layer 4\n",
    "        # Define Activation functions:\n",
    "        self.sigmoid = nn.Sigmoid() \n",
    "        self.relu = nn.ReLU()\n",
    "        self.softmax = nn.LogSoftmax(dim = 1) \n",
    "    def forward(self, x):\n",
    "        \"\"\"\n",
    "        Layers: 4\n",
    "        Activation Functions:\n",
    "        RELU for first two layers\n",
    "        Sigmoid for third layer\n",
    "        Log Softmax for last layer\n",
    "        \"\"\"\n",
    "        x = self.l1(x)\n",
    "        x = self.relu(x)\n",
    "        x = self.l2(x)\n",
    "        x = self.relu(x)\n",
    "        x = self.l3(x)\n",
    "        x = self.sigmoid(x)\n",
    "        x = self.l4(x)\n",
    "        x = self.softmax(x)\n",
    "        return x\n",
    "    \n",
    "    \n",
    " \n",
    "   \n",
    "        \n",
    "        \n",
    "        \n",
    "        \n",
    "        \n",
    "        \n",
    "        \n",
    "\n"
   ]
  },
  {
   "cell_type": "code",
   "execution_count": 14,
   "metadata": {},
   "outputs": [],
   "source": [
    "# Initialize the NN\n",
    "\n",
    "NN = CustomNeuralNetwork()"
   ]
  },
  {
   "cell_type": "code",
   "execution_count": 15,
   "metadata": {},
   "outputs": [],
   "source": [
    "# Initialise loss function\n",
    "\n",
    "criterion = nn.NLLLoss()\n",
    "\n"
   ]
  },
  {
   "cell_type": "code",
   "execution_count": 16,
   "metadata": {},
   "outputs": [],
   "source": [
    "# Optimizer\n",
    "\n",
    "optimizer = optim.Adam(NN.parameters(), lr = 0.001)"
   ]
  },
  {
   "cell_type": "code",
   "execution_count": 17,
   "metadata": {},
   "outputs": [
    {
     "name": "stdout",
     "output_type": "stream",
     "text": [
      "0.3089854419231415\n",
      "0.08859635144472122\n",
      "0.042525455355644226\n",
      "0.011110334657132626\n",
      "0.11691148579120636\n"
     ]
    }
   ],
   "source": [
    "# No:of times to train data\n",
    "\n",
    "epochs = 5\n",
    "for e in range(epochs):\n",
    "    for images, labels in trainloader:\n",
    "        # Faltten the images \n",
    "        images = images.view(images.shape[0], -1)\n",
    "        # set optimizer gradients to zero:\n",
    "        optimizer.zero_grad()\n",
    "        \n",
    "        output = NN(images) # Intial output\n",
    "        loss = criterion(output, labels) # Loss  Caluclation\n",
    "        loss.backward() \n",
    "        optimizer.step() # Update Weights\n",
    "    print(loss.item()) # print loss for each epoch"
   ]
  },
  {
   "cell_type": "code",
   "execution_count": 19,
   "metadata": {},
   "outputs": [
    {
     "name": "stdout",
     "output_type": "stream",
     "text": [
      "Accuracy of the network on the 10000 test images: 96 %\n"
     ]
    }
   ],
   "source": [
    "# predict on test set\n",
    "\n",
    "# Accuracy on Test Data\n",
    "correct = 0\n",
    "total = 0\n",
    "with torch.no_grad():\n",
    "    for images, labels in testloader:\n",
    "        images = images.view(images.shape[0], -1)\n",
    "        output = NN(images)\n",
    "        _, predicted = torch.max(output.data, 1)\n",
    "        total += labels.size(0)\n",
    "        correct += (predicted == labels).sum().item()\n",
    "print('Accuracy of the network on the 10000 test images: %d %%' % (\n",
    "    100 * correct / total))\n",
    "\n",
    "\n",
    "\n",
    "\n",
    "\n",
    "\n",
    "\n",
    "\n"
   ]
  },
  {
   "cell_type": "code",
   "execution_count": null,
   "metadata": {},
   "outputs": [],
   "source": []
  }
 ],
 "metadata": {
  "kernelspec": {
   "display_name": "Python 3",
   "language": "python",
   "name": "python3"
  },
  "language_info": {
   "codemirror_mode": {
    "name": "ipython",
    "version": 3
   },
   "file_extension": ".py",
   "mimetype": "text/x-python",
   "name": "python",
   "nbconvert_exporter": "python",
   "pygments_lexer": "ipython3",
   "version": "3.7.6"
  }
 },
 "nbformat": 4,
 "nbformat_minor": 4
}
